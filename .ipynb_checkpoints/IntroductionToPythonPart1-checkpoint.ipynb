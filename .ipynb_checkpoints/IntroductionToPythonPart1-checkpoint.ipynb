{
 "cells": [
  {
   "cell_type": "markdown",
   "metadata": {},
   "source": [
    "# Introduction to Python\n",
    "\n",
    "## Python programming: introduction to the language\n",
    "\n",
    "* **Instructor**: Markus Lill, Florian Hinz, Jacek Kedzierski \n",
    "* **Target audience**: Pharmacy students from UniBasel\n",
    "* **Course date**: September 2022\n",
    "* **Based on**: Emanuel Ehmkiv tutorial, PhD Student in the group of [Prof. Rarey at the University of Hamburg](https://www.zbh.uni-hamburg.de/forschung/amd.html)\n",
    "\n",
    "# Introduction to Python - Part 1\n",
    "\n",
    "This Notebook is designed to give total programming beginners the tools to quickly work on their own projects. It is used in workshops for natural scientists (master students and graduate students).\n"
   ]
  },
  {
   "cell_type": "markdown",
   "metadata": {},
   "source": [
    "In the first part of this Python crash course we will cover:\n",
    "\n",
    "<a id=\"contents\"></a>\n",
    "## Table of Contents\n",
    "\n",
    " - [Variables](#variables)\n",
    "   * [Types](#types)\n",
    "   * [Naming Rules](#naming-rules)\n",
    " - [Containers](#containers)\n",
    "   * [Lists](#lists)\n",
    "   * [Dictionaries](#dictionaries)\n",
    "   * [Tuples](#tuples)\n",
    " - [Strings](#strings)\n",
    " - [Conditionals](#conditionals)\n",
    " - [Loops](#loops)\n",
    " \n",
    "An exhaustive introduction to Python is given in the [book of Mark Lutz](http://shop.oreilly.com/product/0636920028154.do): *Learning Python \\[5th Ed.\\], O'Reilly Media, 2013, ISBN:978-1449355739*"
   ]
  },
  {
   "cell_type": "markdown",
   "metadata": {
    "tags": []
   },
   "source": [
    "<a id=\"variables\"></a>\n",
    "## Variables\n",
    "[back to TOC](#contents)\n",
    "\n",
    "<a id=\"types\"></a>\n",
    "### Core Data Types in Python\n",
    "\n",
    "Python has a number of core data types. Those data types an some of the basic operations that you can do with them will be discussed in the next few cells. The core data types are:\n",
    "  - Numbers\n",
    "  - Strings\n",
    "  - Lists\n",
    "  - Dictionaries\n",
    "  - Tuples\n",
    "  - Files\n",
    "  - Sets\n",
    "  - Other (boolean, types, None)\n",
    "  - There are a few more complext data types that we will not cover here."
   ]
  },
  {
   "cell_type": "markdown",
   "metadata": {
    "tags": []
   },
   "source": [
    "<a id=\"naming-rules\"></a>\n",
    "### Naming rules\n",
    "There are keywords in Python that are not allowed as names for variables:\n",
    "1. Variables must start with either a letter or an underscore.\n",
    "2. A variable name can only contain alpha-numeric characters and underscores (A-z, 0-9, and _ ).\n",
    "3. Variable names are case-sensitive (age, Age and AGE are three different variables)\n",
    "\n",
    "See [W3School](https://www.w3schools.com/python/python_variables.asp) for reference."
   ]
  },
  {
   "cell_type": "markdown",
   "metadata": {},
   "source": [
    "We can recognise several types of variables like:\n",
    "1. Integers\n",
    "2. Floats\n",
    "3. Strings"
   ]
  },
  {
   "cell_type": "code",
   "execution_count": 1,
   "metadata": {
    "scrolled": true
   },
   "outputs": [
    {
     "name": "stdout",
     "output_type": "stream",
     "text": [
      "var1:  23422\n",
      "my_super_long_variable_name_variable:  1\n"
     ]
    }
   ],
   "source": [
    "# integer \n",
    "var1 = 23422\n",
    "my_super_long_variable_name_variable = 1\n",
    "print(\"var1: \", var1)\n",
    "print(\"my_super_long_variable_name_variable: \", my_super_long_variable_name_variable)"
   ]
  },
  {
   "cell_type": "code",
   "execution_count": 2,
   "metadata": {},
   "outputs": [
    {
     "name": "stdout",
     "output_type": "stream",
     "text": [
      "float var1:  0.1\n",
      "ingetger var1:  2\n"
     ]
    }
   ],
   "source": [
    "# float\n",
    "var1 = 0.1\n",
    "print(\"float var1: \", var1)\n",
    "var1 = 2\n",
    "print(\"ingetger var1: \", var1)"
   ]
  },
  {
   "cell_type": "code",
   "execution_count": 3,
   "metadata": {},
   "outputs": [
    {
     "name": "stdout",
     "output_type": "stream",
     "text": [
      "this is a string\n",
      "this is a string, too\n",
      "sometimes it's necessary to enclose the string in double quotes, though\n"
     ]
    }
   ],
   "source": [
    "# string\n",
    "var1 = \"this is a string\"\n",
    "var2 = 'this is a string, too'\n",
    "var3 = \"sometimes it's necessary to enclose the string in double quotes, though\"\n",
    "print(var1)\n",
    "print(var2)\n",
    "print(var3)"
   ]
  },
  {
   "cell_type": "markdown",
   "metadata": {},
   "source": [
    "### Exercise:\n",
    "* **Please create two variables of type integer, float and string**\n",
    "* **Print the variables as two combined sequences**"
   ]
  },
  {
   "cell_type": "code",
   "execution_count": null,
   "metadata": {},
   "outputs": [],
   "source": [
    "#write your code here:\n"
   ]
  },
  {
   "cell_type": "markdown",
   "metadata": {},
   "source": [
    "Try yourself first, then click on :\n",
    "\n",
    "<details><summary><b>Open Solution</b></summary>\n",
    "\n",
    "```python\n",
    "x = 1\n",
    "score = 1.1\n",
    "name = 'Jacek'\n",
    "\n",
    "print(str(x) + ' ' + str(score) + ' ' + name)\n",
    "    \n",
    "```\n",
    "    \n",
    "</details>\n"
   ]
  },
  {
   "cell_type": "markdown",
   "metadata": {},
   "source": [
    "<a id=\"containers\"></a>\n",
    "## Containers\n",
    "[back to TOC](#contents)\n",
    "<a id=\"lists\"></a>\n",
    "### Lists"
   ]
  },
  {
   "cell_type": "code",
   "execution_count": 5,
   "metadata": {},
   "outputs": [
    {
     "name": "stdout",
     "output_type": "stream",
     "text": [
      "[1, 2, 3, 'x', 'y', 1.0, []]\n"
     ]
    }
   ],
   "source": [
    "# lists\n",
    "first_list = []\n",
    "my_list = [1, 2, 3, 'x', 'y', 1.0, first_list] # several different types in one list\n",
    "print(my_list)"
   ]
  },
  {
   "cell_type": "code",
   "execution_count": 6,
   "metadata": {},
   "outputs": [
    {
     "name": "stdout",
     "output_type": "stream",
     "text": [
      "my list has 7 elements\n"
     ]
    }
   ],
   "source": [
    "# how many elements are in my list?\n",
    "nof_elements = len(my_list)\n",
    "print('my list has', nof_elements, 'elements')"
   ]
  },
  {
   "cell_type": "code",
   "execution_count": 7,
   "metadata": {},
   "outputs": [
    {
     "name": "stdout",
     "output_type": "stream",
     "text": [
      "    first element: 1\n",
      "     last element: []\n",
      "last element rear: []\n"
     ]
    }
   ],
   "source": [
    "# note we always start counting at 0\n",
    "first_element = my_list[0]\n",
    "# selecting the last element (last position = numer of elements - 1)\n",
    "last_element = my_list[6]\n",
    "# selecting the last element (start counting from the end of the list)\n",
    "last_element_rear = my_list[-1]\n",
    "\n",
    "print('    first element:', first_element)\n",
    "print('     last element:', last_element)\n",
    "print('last element rear:', last_element_rear)"
   ]
  },
  {
   "cell_type": "code",
   "execution_count": 8,
   "metadata": {},
   "outputs": [
    {
     "name": "stdout",
     "output_type": "stream",
     "text": [
      "sub set of elements in my_list:  [2, 3]\n"
     ]
    }
   ],
   "source": [
    "# range. A range selects elements like a mathematical interval [)\n",
    "slice_of_my_list = my_list[1:3]\n",
    "print('sub set of elements in my_list: ', slice_of_my_list)"
   ]
  },
  {
   "cell_type": "markdown",
   "metadata": {},
   "source": [
    "For an exhaustive discussion of slicing in Python I recommend [this](https://stackoverflow.com/questions/509211/understanding-slice-notation) StackOverflow answer."
   ]
  },
  {
   "cell_type": "code",
   "execution_count": 9,
   "metadata": {},
   "outputs": [
    {
     "name": "stdout",
     "output_type": "stream",
     "text": [
      "             my list: ['b', 'c', 'z', 'a']\n",
      "   added one element: ['b', 'c', 'z', 'a', 'h']\n",
      "         sorted list: ['a', 'b', 'c', 'h', 'z']\n",
      "removed last element: ['a', 'b', 'c', 'h']\n",
      "     reverse sorting: ['h', 'c', 'b', 'a']\n"
     ]
    }
   ],
   "source": [
    "# some operations that are allowed with lists\n",
    "some_list = ['b', 'c', 'z', 'a']\n",
    "second_list = ['c', {}, 2]\n",
    "print('             my list:', some_list)\n",
    "# add an element at the back of the list\n",
    "some_list.append('h')\n",
    "print('   added one element:', some_list)\n",
    "# sort the elements in the list\n",
    "some_list.sort()\n",
    "print('         sorted list:', some_list)\n",
    "# remove last element of list\n",
    "some_list.pop()\n",
    "print('removed last element:', some_list)\n",
    "# sort reverse\n",
    "some_list.reverse()\n",
    "print('     reverse sorting:', some_list)"
   ]
  },
  {
   "cell_type": "markdown",
   "metadata": {},
   "source": [
    "Python's core data types can be arbitrarily nested. In any combination and as deeply as needed."
   ]
  },
  {
   "cell_type": "code",
   "execution_count": 10,
   "metadata": {},
   "outputs": [],
   "source": [
    " # nesting lists\n",
    "nested_list = [['d', 'e', 'f'],\n",
    "               ['a', 'b', 'c'],\n",
    "               ['j', 'k', 'l']]"
   ]
  },
  {
   "cell_type": "code",
   "execution_count": 11,
   "metadata": {},
   "outputs": [
    {
     "name": "stdout",
     "output_type": "stream",
     "text": [
      "original nested list: [['d', 'e', 'f'], ['a', 'b', 'c'], ['j', 'k', 'l']]\n",
      "       first sublist: k\n",
      "slice of nested list: [['a', 'b', 'c'], ['j', 'k', 'l']]\n",
      "   added one sublist: [['d', 'e', 'f'], ['a', 'b', 'c'], ['j', 'k', 'l'], ['g', 'h', 'i']]\n",
      "         sorted list: [['a', 'b', 'c'], ['d', 'e', 'f'], ['g', 'h', 'i'], ['j', 'k', 'l']]\n",
      "removed last element: [['a', 'b', 'c'], ['d', 'e', 'f'], ['g', 'h', 'i']]\n",
      "    inverted sorting: [['g', 'h', 'i'], ['d', 'e', 'f'], ['a', 'b', 'c']]\n"
     ]
    }
   ],
   "source": [
    "# all operations we already know also work on nested lists\n",
    "print('original nested list:', nested_list)\n",
    "# select item by index\n",
    "sub_list = nested_list[2][1]\n",
    "print('       first sublist:', sub_list)\n",
    "# slice of nested list\n",
    "slice_list = nested_list[1:3]\n",
    "print('slice of nested list:', slice_list)\n",
    "# append\n",
    "nested_list.append(['g', 'h', 'i'])\n",
    "print('   added one sublist:', nested_list)\n",
    "# sort\n",
    "nested_list.sort()\n",
    "print('         sorted list:', nested_list)\n",
    "# remove one element from the rear of the list\n",
    "nested_list.pop()\n",
    "print('removed last element:', nested_list)\n",
    "# invert sorting\n",
    "nested_list.reverse()\n",
    "print('    inverted sorting:', nested_list)"
   ]
  },
  {
   "cell_type": "markdown",
   "metadata": {},
   "source": [
    "There is one important thing left that always has to be kept in mind when working with list. If you copy a list, still only one object exists. Both variables are pointing to the same object! "
   ]
  },
  {
   "cell_type": "code",
   "execution_count": 12,
   "metadata": {},
   "outputs": [
    {
     "name": "stdout",
     "output_type": "stream",
     "text": [
      "a:  ['a,', 'b,', 'c']\n",
      "b:  ['a,', 'b,', 'c']\n",
      "b:  ['a,', 'b,']\n",
      "a:  ['a,', 'b,']\n"
     ]
    }
   ],
   "source": [
    "# creating list a\n",
    "a = ['a,', 'b,', 'c']\n",
    "print('a: ', a)\n",
    "# assigning value of a to b\n",
    "b = a\n",
    "print('b: ', b)\n",
    "# removing one element from b\n",
    "b.pop()\n",
    "# and we see that also a contains one element less\n",
    "print('b: ', b)\n",
    "print('a: ', a)"
   ]
  },
  {
   "cell_type": "markdown",
   "metadata": {},
   "source": [
    "In order to get two distinct objects a deepcopy operation is needed."
   ]
  },
  {
   "cell_type": "code",
   "execution_count": 13,
   "metadata": {},
   "outputs": [
    {
     "name": "stdout",
     "output_type": "stream",
     "text": [
      "a:  ['a,', 'b,', 'c']\n",
      "b:  ['a,', 'b,', 'c']\n",
      "b:  ['a,', 'b,']\n",
      "a:  ['a,', 'b,', 'c']\n"
     ]
    }
   ],
   "source": [
    "import copy\n",
    "# creating list a\n",
    "a = ['a,', 'b,', 'c']\n",
    "print('a: ', a)\n",
    "# assigning value of a to b\n",
    "b = copy.deepcopy(a)\n",
    "print('b: ', b)\n",
    "# remove element from b\n",
    "b.pop()\n",
    "# since we did a deepcopy operation, a is unchanged\n",
    "print('b: ', b)\n",
    "print('a: ', a)"
   ]
  },
  {
   "cell_type": "markdown",
   "metadata": {},
   "source": [
    "### Excercise:\n",
    "* **Write your name as a list of strings and acces the first letter of you name**\n",
    "* **Write your surname as a list of strings and acces the last letter of you surname**\n",
    "* **Print the length of your name and surname**\n",
    "* **Join name and surname lists**\n",
    "* **Sort the letter in your joined name list in the alphabetical order**"
   ]
  },
  {
   "cell_type": "code",
   "execution_count": null,
   "metadata": {},
   "outputs": [],
   "source": [
    "#write your code here:\n"
   ]
  },
  {
   "cell_type": "markdown",
   "metadata": {},
   "source": [
    "Try yourself first, then click on :\n",
    "\n",
    "<details><summary><b>Open Solution</b></summary>\n",
    "\n",
    "```python\n",
    "name = ['J', 'a', 'c', 'e', 'k']\n",
    "surname = ['K', 'e', 'd', 'z', 'i', 'e', 'r', 's', 'k', 'i']\n",
    "print('First letter of my name is ' + name[0])\n",
    "print('Last letter of my surname is ' + surname[-1])\n",
    "print('Length of my name is ' + str(len(name)))\n",
    "print('Length of my surname is ' + str(len(surname)))\n",
    "name_surname = name + surname\n",
    "name_surname.sort()\n",
    "print(name_surname)\n",
    "    \n",
    "```\n",
    "    \n",
    "</details>\n"
   ]
  },
  {
   "cell_type": "markdown",
   "metadata": {},
   "source": [
    "There is one more operation with lists that will be covered as soon as for loops have been introduced: *list comprehension expressions*"
   ]
  },
  {
   "cell_type": "markdown",
   "metadata": {},
   "source": [
    "<a id=\"dictionaries\"></a>\n",
    "### Dictionaries\n",
    "[back to TOC](#contents)"
   ]
  },
  {
   "cell_type": "code",
   "execution_count": 15,
   "metadata": {},
   "outputs": [],
   "source": [
    "# dictionaries (key:value)\n",
    "salaries = {'Mike': 2000, 'Ann': 3000}\n"
   ]
  },
  {
   "cell_type": "code",
   "execution_count": 16,
   "metadata": {},
   "outputs": [
    {
     "data": {
      "text/plain": [
       "2000"
      ]
     },
     "execution_count": 16,
     "metadata": {},
     "output_type": "execute_result"
    }
   ],
   "source": [
    "# select values by key and not index as with lists\n",
    "salaries['Mike']"
   ]
  },
  {
   "cell_type": "code",
   "execution_count": 17,
   "metadata": {},
   "outputs": [
    {
     "data": {
      "text/plain": [
       "{'Mike': 2000, 'Ann': 3000, 'Jake': 2500}"
      ]
     },
     "execution_count": 17,
     "metadata": {},
     "output_type": "execute_result"
    }
   ],
   "source": [
    "# add a new entry\n",
    "salaries['Jake'] = 2500\n",
    "salaries"
   ]
  },
  {
   "cell_type": "code",
   "execution_count": 18,
   "metadata": {},
   "outputs": [
    {
     "data": {
      "text/plain": [
       "{'Mike': 2000, 'Ann': 3000, 'Jake': 3000}"
      ]
     },
     "execution_count": 18,
     "metadata": {},
     "output_type": "execute_result"
    }
   ],
   "source": [
    "# change value of an already existing entry\n",
    "salaries['Jake'] = 3000\n",
    "salaries"
   ]
  },
  {
   "cell_type": "markdown",
   "metadata": {},
   "source": [
    "Nesting and deepcopy is the same as for lists and will not be repeated here."
   ]
  },
  {
   "cell_type": "markdown",
   "metadata": {},
   "source": [
    "### Excercise:\n",
    "* **Create the dictionary with the weekdays on the week as a key and day of the day in the week as a value**\n",
    "* **Add to the directory the weekend days with their corresponding day numbers**\n",
    "* **Change the value for the weeks days to 1 and the weekend days to 0**"
   ]
  },
  {
   "cell_type": "code",
   "execution_count": null,
   "metadata": {},
   "outputs": [],
   "source": [
    "#write your code here:\n"
   ]
  },
  {
   "cell_type": "markdown",
   "metadata": {},
   "source": [
    "Try yourself first, then click on :\n",
    "\n",
    "<details><summary><b>Open Solution</b></summary>\n",
    "\n",
    "```python\n",
    "week = {'Monday': 1, 'Tuesday': 2, 'Wednesday': 3, 'Thursday': 4, 'Friday': 5}\n",
    "week['Saturday'] = 6\n",
    "week['Sunday'] = 7\n",
    "week['Monday'] = 1\n",
    "week['Tuesday'] = 1\n",
    "week['Wednesday'] = 1\n",
    "week['Thursday'] = 1\n",
    "week['Friday'] = 1\n",
    "week['Saturday'] = 0\n",
    "week['Sunday'] = 0\n",
    "\n",
    "print(week)\n",
    "    \n",
    "```\n",
    "    \n",
    "</details>\n"
   ]
  },
  {
   "cell_type": "markdown",
   "metadata": {},
   "source": [
    "<a id=\"strings\"></a>\n",
    "## Strings\n",
    "[back to TOC](#contents)"
   ]
  },
  {
   "cell_type": "code",
   "execution_count": 20,
   "metadata": {},
   "outputs": [
    {
     "name": "stdout",
     "output_type": "stream",
     "text": [
      "first string: 'First string'\n",
      "second string: 'and this the second string'\n",
      "third string (concatenated): 'First stringand this the second string'\n"
     ]
    }
   ],
   "source": [
    "var1 = \"First string\"\n",
    "\n",
    "print(\"first string: '{}'\".format(var1.strip()))\n",
    "var2 = \"and this the second string\"\n",
    "print(\"second string: '{}'\".format(var2))\n",
    "# overwriting value of var1 with value of concatenated strings var 1 and var 2\n",
    "var1 = var1 + var2\n",
    "print(\"third string (concatenated): '{}'\".format(var1))"
   ]
  },
  {
   "cell_type": "code",
   "execution_count": 21,
   "metadata": {},
   "outputs": [],
   "source": [
    "# newline is indicated by special character '\\n'\n",
    "long_string = 'This is, a string \\nSecond, line of the string'"
   ]
  },
  {
   "cell_type": "code",
   "execution_count": 22,
   "metadata": {},
   "outputs": [
    {
     "name": "stdout",
     "output_type": "stream",
     "text": [
      "['This is', ' a string \\nSecond', ' line of the string']\n"
     ]
    }
   ],
   "source": [
    "# a string can be split up in several elements\n",
    "# splitting a string returns a list of elements\n",
    "print(long_string.split(\",\"))"
   ]
  },
  {
   "cell_type": "code",
   "execution_count": 23,
   "metadata": {},
   "outputs": [
    {
     "data": {
      "text/plain": [
       "['This is, a string ', 'Second, line of the string']"
      ]
     },
     "execution_count": 23,
     "metadata": {},
     "output_type": "execute_result"
    }
   ],
   "source": [
    "long_string.split(\"\\n\")"
   ]
  },
  {
   "cell_type": "code",
   "execution_count": 24,
   "metadata": {},
   "outputs": [
    {
     "data": {
      "text/plain": [
       "4"
      ]
     },
     "execution_count": 24,
     "metadata": {},
     "output_type": "execute_result"
    }
   ],
   "source": [
    "# there are several other operations supported by the string class\n",
    "long_string.count('s') # case sensitive!"
   ]
  },
  {
   "cell_type": "markdown",
   "metadata": {},
   "source": [
    "The best reference for functionality of Python objects is the website of the [Python Software Foundation](https://www.python.org/). The site about the [*string* class](https://docs.python.org/3.8/library/string.html?highlight=string#module-string) explains all operations that are possible with strings. "
   ]
  },
  {
   "cell_type": "markdown",
   "metadata": {},
   "source": [
    "### Excercise:\n",
    "* **Write a two sentences consisting of at least 5 words as two string variables**\n",
    "* **Concatenate the two sentences into one**\n",
    "* **Count how many spaces there are in the concatenated sentence variable**"
   ]
  },
  {
   "cell_type": "code",
   "execution_count": null,
   "metadata": {},
   "outputs": [],
   "source": [
    "#write your code here:\n"
   ]
  },
  {
   "cell_type": "markdown",
   "metadata": {},
   "source": [
    "Try yourself first, then click on :\n",
    "\n",
    "<details><summary><b>Open Solution</b></summary>\n",
    "\n",
    "```python\n",
    "    \n",
    "sentence1 = 'I really like these molecular modeling classes.'\n",
    "sentence2 = 'I just want to learn more.'\n",
    "\n",
    "sentences = sentence1 + ' ' + sentence2\n",
    "\n",
    "print(sentences)\n",
    "\n",
    "print(sentences.count(' '))\n",
    "    \n",
    "```\n",
    "    \n",
    "</details>"
   ]
  },
  {
   "cell_type": "markdown",
   "metadata": {},
   "source": [
    "<a id=\"conditionals\"></a>\n",
    "## Conditionals\n",
    "[back to TOC](#contents)\n",
    "\n",
    "The genral form of a conditional is:\n",
    "\n",
    "```\n",
    "if test1:\n",
    "    expression1\n",
    "elif test2:\n",
    "    expression2\n",
    "else:\n",
    "    expression3\n",
    "```\n",
    "\n",
    "The above code snippet basically says: if *test1* evaluates to `true`, execute *expression1*. In case *test1* evaluates to `false`, move on to *test2*. In case *test2* evaluates to `true`, execute *expression2*. In case *test1* and *test2* evaluate to `false`, execute *expression3*"
   ]
  },
  {
   "cell_type": "code",
   "execution_count": 26,
   "metadata": {},
   "outputs": [
    {
     "name": "stdout",
     "output_type": "stream",
     "text": [
      "It starts with T\n"
     ]
    }
   ],
   "source": [
    "long_string = 'This is, a string \\nSecond line of the string'\n",
    "# if-elif-else clause\n",
    "if long_string.startswith('X'):\n",
    "    print('It starts with X')\n",
    "elif long_string.startswith('T'):\n",
    "    print('It starts with T')\n",
    "elif long_string.startswith('Y'):\n",
    "    print('It starts with Y')\n",
    "else:\n",
    "    print('No')"
   ]
  },
  {
   "cell_type": "markdown",
   "metadata": {},
   "source": [
    "The `if - n times (elif) - else` conditional executes all *tests* until one evaluatates to `true`. In case an `elif` conditional evaluates to `true`, the rest of the `elif` and `else` conditionals are skipped."
   ]
  },
  {
   "cell_type": "markdown",
   "metadata": {},
   "source": [
    "If you want to test all conditions, simply list one `if` clause after another"
   ]
  },
  {
   "cell_type": "code",
   "execution_count": 27,
   "metadata": {},
   "outputs": [
    {
     "name": "stdout",
     "output_type": "stream",
     "text": [
      "It doesn't start with X\n",
      "It ends with g\n"
     ]
    }
   ],
   "source": [
    "long_string = 'This is, a string \\nSecond line of the string'\n",
    "# if-else clause\n",
    "if long_string.startswith('X'):\n",
    "    print('It starts with X')\n",
    "else:\n",
    "    print(\"It doesn't start with X\")\n",
    "# another if-else clause\n",
    "if long_string.endswith('g'):\n",
    "    print('It ends with g')\n",
    "else:\n",
    "    print(\"It doesn't end with g\")"
   ]
  },
  {
   "cell_type": "markdown",
   "metadata": {},
   "source": [
    "It is good practice to have an `else` clause for each `if` clause to communicate what needs to be done in case the test evaluates to `false`. However, sometimes it's simply not of interest to handel the `else` case. Not every `if` clause has to be accompanied by an `else` clause."
   ]
  },
  {
   "cell_type": "code",
   "execution_count": 28,
   "metadata": {},
   "outputs": [
    {
     "name": "stdout",
     "output_type": "stream",
     "text": [
      "\"long_string\" contains 5 \"i\"s!\n"
     ]
    }
   ],
   "source": [
    "long_string = 'This is, a string \\nSecond line of the string'\n",
    "if long_string.count('i') == 1:\n",
    "    print('\"long_string\" contains 1 \"i\"s!')\n",
    "if long_string.count('i') == 2:\n",
    "    print('\"long_string\" contains 2 \"i\"s!')\n",
    "if long_string.count('i') == 3:\n",
    "    print('\"long_string\" contains 3 \"i\"s!')\n",
    "if long_string.count('i') == 4:\n",
    "    print('\"long_string\" contains 4 \"i\"s!')\n",
    "if long_string.count('i') == 5:\n",
    "    print('\"long_string\" contains 5 \"i\"s!')\n",
    "if long_string.count('i') == 6:\n",
    "    print('\"long_string\" contains 6 \"i\"s!')\n",
    "if long_string.count('i') > 6:\n",
    "    print('Hands are getting tired from writing! Found more than 6 \"i\"s')"
   ]
  },
  {
   "cell_type": "markdown",
   "metadata": {},
   "source": [
    "The example above can we written way less typing intensive, but for the sake of the example it's OK."
   ]
  },
  {
   "cell_type": "markdown",
   "metadata": {},
   "source": [
    "<a id=\"loops\"></a>\n",
    "## Loops\n",
    "[back to TOC](#contents)\n",
    "\n",
    "While writing software, a frequently occuring task is to iterate over a sequence of items. This is usually done in two ways:\n",
    "1. `for` loops\n",
    "2. `while` loops\n",
    "\n",
    "As a rule of thumb, `for` loops are employed in cases where you have a sequence of items and you want to do something with each of the elements.\n",
    "\n",
    "A `while` loop is usually employed when you are looking for a certain state to be reached. Something like: *Do something until a certain condition is `true` or `false`*"
   ]
  },
  {
   "cell_type": "markdown",
   "metadata": {},
   "source": [
    "### For Loops"
   ]
  },
  {
   "cell_type": "code",
   "execution_count": 29,
   "metadata": {},
   "outputs": [
    {
     "name": "stdout",
     "output_type": "stream",
     "text": [
      "substring: A list of comma separated elements\n",
      "substring: 1\n",
      "substring: 2\n",
      "substring: 3\n",
      "substring: 4\n",
      "substring: 5\n",
      "substring: 6\n",
      "substring: 7\n",
      "no: 1, item: A list of comma separated elements\n",
      "no: 2, item: 1\n",
      "no: 3, item: 2\n",
      "no: 4, item: 3\n",
      "no: 5, item: 4\n",
      "no: 6, item: 5\n",
      "no: 7, item: 6\n",
      "no: 8, item: 7\n"
     ]
    }
   ],
   "source": [
    "# we have a list of substrings that we want to be printed out. \n",
    "long_string = 'A list of comma separated elements,1,2,3,4,5,6,7'\n",
    "my_list_of_substrings = long_string.split(',')\n",
    "\n",
    "for sub_string in my_list_of_substrings:\n",
    "    print('substring:',sub_string)\n",
    "    \n",
    "for counter, item in enumerate(my_list_of_substrings, 1):\n",
    "    print('no: {}, item: {}'.format(counter, item))"
   ]
  },
  {
   "cell_type": "markdown",
   "metadata": {},
   "source": [
    "### While Loops"
   ]
  },
  {
   "cell_type": "code",
   "execution_count": 30,
   "metadata": {},
   "outputs": [],
   "source": [
    "# until c has the value of 10, we want to add 2 \n",
    "c = 0\n",
    "while c < 10 and c > 4:\n",
    "    c = c + 2\n",
    "    print(c)"
   ]
  },
  {
   "cell_type": "markdown",
   "metadata": {},
   "source": [
    "### Working with Loops"
   ]
  },
  {
   "cell_type": "markdown",
   "metadata": {},
   "source": [
    "When working with loops, there are three statements that we should have a look at:\n",
    "  - break\n",
    "  - continue\n",
    "  - pass\n",
    "\n",
    "Another concept, that we will skip here, however, is the *Loop else block*. Although, it is important enough to be named here. Anyone interested can find a good introduction [here](http://python-notes.curiousefficiency.org/en/latest/python_concepts/break_else.html) or in the [book of Mark Lutz (p. 329)](http://shop.oreilly.com/product/0636920028154.do)."
   ]
  },
  {
   "cell_type": "code",
   "execution_count": 31,
   "metadata": {},
   "outputs": [
    {
     "name": "stdout",
     "output_type": "stream",
     "text": [
      "Exiting since counter equals 10\n"
     ]
    }
   ],
   "source": [
    "# the break statement stops the loop whenever called\n",
    "counter = 0;\n",
    "while True:\n",
    "    counter += 1\n",
    "    if counter == 10:\n",
    "        print('Exiting since counter equals 10')\n",
    "        break"
   ]
  },
  {
   "cell_type": "code",
   "execution_count": 32,
   "metadata": {},
   "outputs": [
    {
     "name": "stdout",
     "output_type": "stream",
     "text": [
      "Got an even number! 1\n",
      "Got an even number! 3\n",
      "Got an even number! 5\n",
      "Got an even number! 7\n",
      "Got an even number! 9\n"
     ]
    }
   ],
   "source": [
    "# the continue statement skips the rest of the loop and starts a new iteration of the loop\n",
    "counter = 0;\n",
    "while counter < 10:\n",
    "    counter += 1\n",
    "    if counter % 2 == 0:\n",
    "        continue # skipping the print statement\n",
    "    print('Got an even number!', counter)"
   ]
  },
  {
   "cell_type": "code",
   "execution_count": 33,
   "metadata": {},
   "outputs": [
    {
     "name": "stdout",
     "output_type": "stream",
     "text": [
      "inside for loop\n",
      "inside for loop\n",
      "inside for loop\n",
      "inside for loop\n",
      "inside for loop\n",
      "inside for loop\n",
      "inside for loop\n",
      "inside for loop\n",
      "inside for loop\n",
      "inside for loop\n",
      "outside for loop\n"
     ]
    }
   ],
   "source": [
    "# the pass statement is a used when the syntax requires a statement\n",
    "# but you have not decided what to write yet.\n",
    "ml = [0, 1, 2, 3, 4, 5, 6, 7, 8, 9]\n",
    "for number in ml:\n",
    "    print('inside for loop')\n",
    "print('outside for loop')\n"
   ]
  },
  {
   "cell_type": "markdown",
   "metadata": {},
   "source": [
    "### Excercise:\n",
    "* **Create a loop that will add numbers from 0 to 9**\n",
    "* **For every iteration of the loop check if the temporaty sum is lower than 6 and if so print 'LOWER' in other case print 'HIGHER'**"
   ]
  },
  {
   "cell_type": "code",
   "execution_count": null,
   "metadata": {},
   "outputs": [],
   "source": [
    "#write your code here:\n"
   ]
  },
  {
   "cell_type": "markdown",
   "metadata": {},
   "source": [
    "Try yourself first, then click on :\n",
    "\n",
    "<details><summary><b>Open Solution</b></summary>\n",
    "\n",
    "```python\n",
    "ml = [0, 1, 2, 3, 4, 5, 6, 7, 8, 9]\n",
    "result = 0 \n",
    "for number in ml:\n",
    "    print(number)\n",
    "    result += number\n",
    "    if(result < 6):\n",
    "        print('LOWER')\n",
    "    else:\n",
    "        print('HIGHER')\n",
    "    \n",
    "print(result)\n",
    "    \n",
    "```\n",
    "    \n",
    "</details>\n"
   ]
  },
  {
   "cell_type": "markdown",
   "metadata": {},
   "source": [
    "## Final Words\n",
    "The features presented here are the absolute foundation that you will build your scripting knowledge on. In part 2 of the Python crash course, you will learn about file manipulation, code encapsulation with functions and how to make use of the vast ecosystem of Python modules.\n",
    "\n",
    "[back to top](#head)"
   ]
  }
 ],
 "metadata": {
  "anaconda-cloud": {},
  "kernelspec": {
   "display_name": "Python 3 (ipykernel)",
   "language": "python",
   "name": "python3"
  },
  "language_info": {
   "codemirror_mode": {
    "name": "ipython",
    "version": 3
   },
   "file_extension": ".py",
   "mimetype": "text/x-python",
   "name": "python",
   "nbconvert_exporter": "python",
   "pygments_lexer": "ipython3",
   "version": "3.10.4"
  },
  "vscode": {
   "interpreter": {
    "hash": "97b84cd48f7ef8a2fee6bcfc71ff1b397fb2421ade9540e42eb55d9b34450a69"
   }
  }
 },
 "nbformat": 4,
 "nbformat_minor": 4
}
