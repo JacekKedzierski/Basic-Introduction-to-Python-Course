{
 "cells": [
  {
   "cell_type": "markdown",
   "metadata": {},
   "source": [
    "# Exercises\n",
    "## Collection of exercises for topics presented in the introduction notebooks\n",
    "The exercises presented below are designed to support the understanding of the material that is covered in the introduction notebooks. They are the same as in the Exercises folder that can be found in the main folder of the repository. They are duplicated here to allow participants of the course to easily work on the exercises by using the repository in combination with [![Binder](https://mybinder.org/badge_logo.svg)](https://mybinder.org/v2/gh/GDChCICTeam/python-for-chemists/master)\n",
    "\n"
   ]
  },
  {
   "cell_type": "markdown",
   "metadata": {},
   "source": [
    "## Variables"
   ]
  },
  {
   "cell_type": "code",
   "execution_count": null,
   "metadata": {},
   "outputs": [],
   "source": [
    "#!/usr/bin/python3\n",
    "\n",
    "# create variables with the following criteria\n",
    "#   - one of each type\n",
    "#     - int\n",
    "#     - float\n",
    "#     - string\n",
    "#     - list\n",
    "#     - dict\n",
    "#   - with the following names\n",
    "#     - var\n",
    "#     - _23\n",
    "#     - class\n",
    "#     - 1ad\n",
    "#     - $dsf\n",
    "#     - Add\n",
    "# Hint: Some variable names are not valid in Python\n",
    "\n",
    "\n"
   ]
  },
  {
   "cell_type": "markdown",
   "metadata": {},
   "source": [
    "## Conditionals"
   ]
  },
  {
   "cell_type": "code",
   "execution_count": null,
   "metadata": {},
   "outputs": [],
   "source": [
    "#!/usr/bin/python3\n",
    "\n",
    "# --------------------------------------------------------------------------- #\n",
    "# write if/else conditionals that decide what is printed to the console\n",
    "# based on the content of the strings that are stored in the given list\n",
    "# the following criteria should be tested and tested string should be printed\n",
    "# together with a messages indicating which of the following rules matched. In\n",
    "# case that several rules apply, several messages shall be printed.\n",
    "# Rules:\n",
    "#   - contains only alphanumerical characters\n",
    "#   - contains only alphabetical characters\n",
    "#   - contains only digits\n",
    "#   - contains at least one special character\n",
    "#   - none of the above\n",
    "# --------------------------------------------------------------------------- #\n",
    "\n",
    "list_of_strings = ['def', '213', '10deers', 'df$df#$ad']\n"
   ]
  },
  {
   "cell_type": "markdown",
   "metadata": {},
   "source": [
    "## Loops"
   ]
  },
  {
   "cell_type": "code",
   "execution_count": null,
   "metadata": {},
   "outputs": [],
   "source": [
    "#!/usr/bin/python3\n",
    "import pathlib\n",
    "import errno\n",
    "\n",
    "root_dir = pathlib.Path.cwd().parent\n",
    "data_path = root_dir / 'Data'\n",
    "data_file = root_dir / 'Data' / 'input_for_loop_exercise.txt'\n",
    "\n",
    "# --------------------------------------------------------------------------- #\n",
    "# traverse the content of the variables 'content', 'a_dictionary', 'a_list' with:\n",
    "#   - while loop\n",
    "#   - for loop\n",
    "# and print each element using the print() function\n",
    "# --------------------------------------------------------------------------- #\n",
    "\n",
    "\n",
    "# parse content of file 'input_for_loop_exercise.txt'\n",
    "content = ''\n",
    "if data_file.exists():\n",
    "    with data_file.open() as infile:\n",
    "        content = infile.read().split('\\n')\n",
    "else:\n",
    "    exit(errno.ENOENT)\n",
    "\n",
    "# --------------------------------------------------------------------------- #\n",
    "    \n",
    "# initialize dictionary and list\n",
    "a_dictionary = {'a': 1, 'b': 2, 'c': 3, 'd': 4}\n",
    "a_list = ['a', 'b', 'c', 'd']"
   ]
  },
  {
   "cell_type": "markdown",
   "metadata": {},
   "source": [
    "## Functions"
   ]
  },
  {
   "cell_type": "code",
   "execution_count": null,
   "metadata": {},
   "outputs": [],
   "source": [
    "#!/usr/bin/python3\n",
    "\n",
    "# --------------------------------------------------------------------------- #\n",
    "# Write three functions where each function has only one task. The tasks for\n",
    "# the functions are:\n",
    "#   - check if container is of type list\n",
    "#   - check if list is empty\n",
    "#   - print each element of list\n",
    "# The printing function should only be called in the case that the two other\n",
    "# functions have tested the container for type list and that its not emtpy\n",
    "# --------------------------------------------------------------------------- #\n",
    "\n",
    "a_list = ['element 1', 'element 2', 'element 3', 1, 2, 3,\n",
    "          ['sublist element1', 'sublist element 2']]\n"
   ]
  }
 ],
 "metadata": {
  "kernelspec": {
   "display_name": "Python 3",
   "language": "python",
   "name": "python3"
  },
  "language_info": {
   "codemirror_mode": {
    "name": "ipython",
    "version": 3
   },
   "file_extension": ".py",
   "mimetype": "text/x-python",
   "name": "python",
   "nbconvert_exporter": "python",
   "pygments_lexer": "ipython3",
   "version": "3.8.5"
  }
 },
 "nbformat": 4,
 "nbformat_minor": 4
}
