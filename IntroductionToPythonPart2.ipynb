{
 "cells": [
  {
   "cell_type": "markdown",
   "metadata": {},
   "source": [
    "<a id=\"top\"></a>\n",
    "# Introduction to Python - Part 2\n",
    "\n",
    "* **Instructor**: Markus Lill, Florian Hinz, Jacek Kedzierski \n",
    "* **Target audience**: Pharmacy students from UniBasel\n",
    "* **Course date**: September 2022\n",
    "* **Based on**: Emanuel Ehmkiv tutorial, PhD Student in the group of [Prof. Rarey at the University of Hamburg](https://www.zbh.uni-hamburg.de/forschung/amd.html)\n"
   ]
  },
  {
   "cell_type": "markdown",
   "metadata": {},
   "source": [
    "## First Steps in Python\n",
    "\n",
    "In the first part of this Python crash course we covered:\n",
    "\n",
    " - Variables\n",
    "   * Types\n",
    "   * Naming Rules\n",
    " - Containers\n",
    "   * Lists\n",
    "   * Dictionaries\n",
    "   * Tuples\n",
    " - Strings\n",
    " - Conditionals\n",
    " - Loops\n",
    "\n",
    "<a id=\"contents\"></a>\n",
    "## Table of Contents\n",
    "\n",
    "\n",
    "  - [Functions](#functions)\n",
    "  - [Python Modules](#python-modules)\n",
    "    * [*math*](#math) for standard math operations\n",
    "    * [*numpy*](#numpy) for heavy calculations\n",
    "    * [*matplotlib*](#matplotlib) for plotting\n",
    "  - [File operations](#file-operations)"
   ]
  },
  {
   "cell_type": "markdown",
   "metadata": {},
   "source": [
    "<a id=\"functions\"></a>\n",
    "## Functions\n",
    "[back to TOC](#contents)\n",
    "\n",
    "Functions are the simplest way to maximize code reuse, minimize redundancy, and to decompose your script/program into pieces with well defined roles. When you want to write a function you write the `def` keyword. This declares that what follows will have a certain pattern.\n",
    "```\n",
    "def name_of_function(param1, param2, param3, ..., paramN):\n",
    "    ...\n",
    "    return ...\n",
    "```\n",
    " - `def` starts the function declaration\n",
    " - `name_of_function` tells Python under which name to store the function object\n",
    " - `param1, param2,...` are the parameters that you have to provide the function with when you call it\n",
    " - `...` is the function body. Here goes anything you wish, as long as its valid Python code\n",
    " - `return` this is what leaves the function\n",
    " "
   ]
  },
  {
   "cell_type": "code",
   "execution_count": 5,
   "metadata": {},
   "outputs": [
    {
     "name": "stdout",
     "output_type": "stream",
     "text": [
      "Outside the function\n",
      "Inside the function\n",
      "outside variable\n"
     ]
    }
   ],
   "source": [
    "# first, we define a function. each definition ends with a colon.\n",
    "def my_function(outside_variable):\n",
    "    print('Inside the function')\n",
    "    print(outside_variable)\n",
    "    i = 0\n",
    "    return i\n",
    "\n",
    "print('Outside the function')\n",
    "# now call the function\n",
    "a = my_function(\"outside variable\")\n",
    "\n",
    "\n",
    "# during definition, the print statement is not processed. The empty line closes the function defintion.\n",
    "# Then, the 'Outside' print is executed. Only then do we call the 'my_function()' function and it's body\n",
    "# is executed."
   ]
  },
  {
   "cell_type": "code",
   "execution_count": 6,
   "metadata": {},
   "outputs": [
    {
     "name": "stdout",
     "output_type": "stream",
     "text": [
      "Got the parameters:\n",
      "brand:  Yamaha\n",
      "weight:  200\n",
      "color:  blue \n",
      "\n",
      "Got the parameters:\n",
      "brand:  Ducati\n",
      "weight:  198\n",
      "color:  red \n",
      "\n"
     ]
    }
   ],
   "source": [
    "# second example: a function with multiple parameters\n",
    "def my_function_with_params(brand, weight, color):\n",
    "    print('Got the parameters:')\n",
    "    print('brand: ', brand)\n",
    "    print('weight: ', weight)\n",
    "    print('color: ', color, '\\n')\n",
    "    \n",
    "# outside of the function\n",
    "brand_one = 'Yamaha'\n",
    "weight_one = 200\n",
    "color_one = 'blue'\n",
    "\n",
    "# call the function with predefined parameters\n",
    "my_function_with_params(brand_one, weight_one, color_one)\n",
    "# call the function with temporary parameters\n",
    "my_function_with_params('Ducati', 198, 'red')\n",
    "\n",
    "# as you can see, the parameter names 'brand', 'weight', 'color' are just placeholders\n",
    "# for something that is passed to the function when it's called. Those names are used\n",
    "# inside the function whenever something needs to be done with one of the three things\n",
    "# passed to the function"
   ]
  },
  {
   "cell_type": "markdown",
   "metadata": {},
   "source": [
    "### Exercise:\n",
    "\n",
    "* <b> Write a function that takes as input the numbers number_1, number_2 outputs the their sum.</b>\n",
    "* <b> Call your function with different numbers number_1 and number_2. </b>"
   ]
  },
  {
   "cell_type": "code",
   "execution_count": 7,
   "metadata": {},
   "outputs": [],
   "source": [
    "#write your code here:\n"
   ]
  },
  {
   "cell_type": "markdown",
   "metadata": {},
   "source": [
    "Try yourself first, then click on :\n",
    "\n",
    "<details><summary><b>Open Solution</b></summary>\n",
    "\n",
    "```python\n",
    "    \n",
    "def calc_sum(number_1, number_2):\n",
    "    mysum = number_1 + number_2\n",
    "    return mysum\n",
    "\n",
    "# define variables for number 1 and 2\n",
    "num1 = 4\n",
    "num2 = 5\n",
    "sum_of_num1_and_num2 = calc_sum(num1, num2)\n",
    "print('The sum is:', sum_of_num1_and_num2)\n",
    "\n",
    "# call the function with numbers 1 and 2 and directly print the result\n",
    "print('The sum is:', calc_sum(1,2))\n",
    "    \n",
    "```\n",
    "    \n",
    "</details>"
   ]
  },
  {
   "cell_type": "markdown",
   "metadata": {},
   "source": [
    "<a id=\"python-modules\"></a>\n",
    "\n",
    "## Python Modules\n",
    "\n",
    "[back to TOC](#contents)\n",
    "    \n",
    "Whenever you use statements like `import` or `from` you are basically working with Python modules already. Usually a Python module is a Python program file. Sometimes it is an extension that is written in languages like C, Java or C#. Modules are a simple way of packaging code you write and use code that others have written.\n",
    "\n",
    "Many problems you have to solve have been solved by others already. Especially Python has a rich ecosystem of packages of code others have written that you can easlily use by *importing* their packages.\n",
    "\n",
    "We will have a look at three packages:\n",
    "  - [*math*](#math)\n",
    "  - [*numpy*](#numpy)\n",
    "  - [*matplotlib*](#matplotlib)"
   ]
  },
  {
   "cell_type": "markdown",
   "metadata": {},
   "source": [
    "<a id=\"math\"></a>\n",
    "\n",
    "### *math* Module\n",
    "\n",
    "The *math* module covers several functions that are useful when working scientificly with Python"
   ]
  },
  {
   "cell_type": "code",
   "execution_count": 8,
   "metadata": {},
   "outputs": [
    {
     "name": "stdout",
     "output_type": "stream",
     "text": [
      "Pi in Python is: 3.141592653589793\n"
     ]
    }
   ],
   "source": [
    "# import the functionality that is provided by the math module\n",
    "import math\n",
    "# working with pi?\n",
    "\n",
    "pi = math.pi \n",
    "\n",
    "# the dot notation specifies that we want to use the 'pi'\n",
    "# functionality from the module 'math'\n",
    "\n",
    "print('Pi in Python is:', pi)"
   ]
  },
  {
   "cell_type": "code",
   "execution_count": 9,
   "metadata": {},
   "outputs": [
    {
     "name": "stdout",
     "output_type": "stream",
     "text": [
      "2^x for x = 3: 8.0\n"
     ]
    }
   ],
   "source": [
    "#there are several other useful tools in the math package.\n",
    "# the power of\n",
    "print('2^x for x = 3:', math.pow(2,3))"
   ]
  },
  {
   "cell_type": "code",
   "execution_count": 10,
   "metadata": {},
   "outputs": [
    {
     "name": "stdout",
     "output_type": "stream",
     "text": [
      "e^x for x = 2: 7.38905609893065\n"
     ]
    }
   ],
   "source": [
    "# e function\n",
    "print('e^x for x = 2:', math.exp(2))"
   ]
  },
  {
   "cell_type": "code",
   "execution_count": 11,
   "metadata": {},
   "outputs": [
    {
     "name": "stdout",
     "output_type": "stream",
     "text": [
      "log(x) for x = 12: 2.4849066497880004\n"
     ]
    }
   ],
   "source": [
    "# log function\n",
    "print('log(x) for x = 12:', math.log(12))"
   ]
  },
  {
   "cell_type": "markdown",
   "metadata": {},
   "source": [
    "### Exercise :\n",
    "* <b> Use the function math.sqrt() to calculate the square root of 55. Print the result. </b>"
   ]
  },
  {
   "cell_type": "code",
   "execution_count": 12,
   "metadata": {},
   "outputs": [],
   "source": [
    "#write your code here:\n"
   ]
  },
  {
   "cell_type": "markdown",
   "metadata": {},
   "source": [
    "Try yourself first, then click on :\n",
    "\n",
    "<details><summary><b>Open Solution</b></summary>\n",
    "\n",
    "```python\n",
    "    \n",
    "import math\n",
    "\n",
    "print(\"The square root of 55 is:\", math.sqrt(55))\n",
    "```\n",
    "    \n",
    "</details>"
   ]
  },
  {
   "cell_type": "markdown",
   "metadata": {},
   "source": [
    "Taken from the [numpy website](https://numpy.org/):\n",
    "> NumPy is the fundamental package for scientific computing with Python. It contains among other things:\n",
    ">  * a powerful N-dimensional array object\n",
    ">  * sophisticated (broadcasting) functions\n",
    ">  * tools for integrating C/C++ and Fortran code\n",
    ">  * useful linear algebra, Fourier transform, and random number capabilities\n",
    ">\n",
    "> Besides its obvious scientific uses, NumPy can also be used as an efficient multi-dimensional container of generic data. Arbitrary data-types can be defined. This allows NumPy to seamlessly and speedily integrate with a wide variety of databases.\n",
    "\n",
    "In other words: one of the most useful and powerful modules in Python when it comes to data scientific tasks!"
   ]
  },
  {
   "cell_type": "code",
   "execution_count": 13,
   "metadata": {},
   "outputs": [
    {
     "name": "stdout",
     "output_type": "stream",
     "text": [
      "Vector A:\n",
      " [0 1 2 3 4 5 6 7 8]\n",
      "Matrix A:\n",
      " [[0 1 2]\n",
      " [3 4 5]\n",
      " [6 7 8]]\n"
     ]
    }
   ],
   "source": [
    "# conventionally some packages names are abbreviated by using the keyword \"as\" for aliasing\n",
    "import numpy as np\n",
    "\n",
    "# first create an array (vector) containing the numbers 0 to 8:\n",
    "A = np.arange(9)\n",
    "print('Vector A:\\n',A)\n",
    "# rearange to a 3x3 matrix\n",
    "A = A.reshape(3, 3)\n",
    "print('Matrix A:\\n', A)"
   ]
  },
  {
   "cell_type": "markdown",
   "metadata": {},
   "source": [
    "You can access single elements of the numpy array as follows:"
   ]
  },
  {
   "cell_type": "code",
   "execution_count": 14,
   "metadata": {},
   "outputs": [
    {
     "name": "stdout",
     "output_type": "stream",
     "text": [
      "7\n"
     ]
    }
   ],
   "source": [
    "row=2\n",
    "column=1\n",
    "print(A[row,column])"
   ]
  },
  {
   "cell_type": "markdown",
   "metadata": {},
   "source": [
    "You can also access a submatrix of A by 'slicing' with the operator ':'"
   ]
  },
  {
   "cell_type": "code",
   "execution_count": 15,
   "metadata": {},
   "outputs": [
    {
     "name": "stdout",
     "output_type": "stream",
     "text": [
      "[[4 5]\n",
      " [7 8]]\n"
     ]
    }
   ],
   "source": [
    "#access the 2x2 submatrix consisting of entries with row_index>=1, column_index>=1:\n",
    "print(A[1:,1:])"
   ]
  },
  {
   "cell_type": "code",
   "execution_count": 16,
   "metadata": {},
   "outputs": [
    {
     "name": "stdout",
     "output_type": "stream",
     "text": [
      "[[0 1]\n",
      " [3 4]]\n"
     ]
    }
   ],
   "source": [
    "#access the 2x2 submatrix consisting of entries with row_index<=1, column_index<=1:\n",
    "print(A[:2,:2])"
   ]
  },
  {
   "cell_type": "markdown",
   "metadata": {},
   "source": [
    "### Exercise :\n",
    "* <b> Access the 2x2 submatrix of A consisting of entries with row_index<=1, column_index>=1. The result should be:</b>\n",
    "    ```\n",
    "[[1 2]\n",
    " [4 5]]\n",
    " \n",
    "```\n",
    "    "
   ]
  },
  {
   "cell_type": "code",
   "execution_count": 108,
   "metadata": {},
   "outputs": [],
   "source": [
    "#Write your code here:\n"
   ]
  },
  {
   "cell_type": "markdown",
   "metadata": {},
   "source": [
    "Try yourself first, then click on :\n",
    "\n",
    "<details><summary><b>Open Solution</b></summary>\n",
    "\n",
    "```python\n",
    "    print(A[:2,1:])\n",
    "\n",
    "    \n",
    "```\n",
    "    \n",
    "</details>"
   ]
  },
  {
   "cell_type": "markdown",
   "metadata": {},
   "source": [
    "Next, let's take a look at manipulation of the elements of matrix A:"
   ]
  },
  {
   "cell_type": "code",
   "execution_count": 17,
   "metadata": {},
   "outputs": [
    {
     "name": "stdout",
     "output_type": "stream",
     "text": [
      "Matrix A with squared values:\n",
      " [[ 0  1  4]\n",
      " [ 9 16 25]\n",
      " [36 49 64]]\n"
     ]
    }
   ],
   "source": [
    "# square all elements\n",
    "print('Matrix A with squared values:\\n', A**2)"
   ]
  },
  {
   "cell_type": "code",
   "execution_count": 18,
   "metadata": {},
   "outputs": [
    {
     "name": "stdout",
     "output_type": "stream",
     "text": [
      "Matrix A with sin(x) values:\n",
      " [[ 0.          0.84147098  0.90929743]\n",
      " [ 0.14112001 -0.7568025  -0.95892427]\n",
      " [-0.2794155   0.6569866   0.98935825]]\n"
     ]
    }
   ],
   "source": [
    "# calculate trigonometrical functions of elements\n",
    "print('Matrix A with sin(x) values:\\n', np.sin(A))"
   ]
  },
  {
   "cell_type": "code",
   "execution_count": 19,
   "metadata": {},
   "outputs": [
    {
     "name": "stdout",
     "output_type": "stream",
     "text": [
      "Sum for each column:\n",
      " [ 9 12 15]\n"
     ]
    }
   ],
   "source": [
    "# calculate the sum of each column, that means sum needs to be taken along axis=0\n",
    "print('Sum for each column:\\n', A.sum(axis=0))"
   ]
  },
  {
   "cell_type": "code",
   "execution_count": 20,
   "metadata": {},
   "outputs": [
    {
     "name": "stdout",
     "output_type": "stream",
     "text": [
      "Matrix A:\n",
      " [[0 1 2]\n",
      " [3 4 5]\n",
      " [6 7 8]]\n",
      "Matrix B:\n",
      " [[ 5  7  9]\n",
      " [11 13 15]\n",
      " [17 19 21]]\n"
     ]
    }
   ],
   "source": [
    "# Matrix A\n",
    "print('Matrix A:\\n', A)\n",
    "# get another 3x3 matrix. It will start enumerating at value 5, end at value 22 with spacing of 2\n",
    "B = np.arange(5, 22, 2).reshape(3, 3)\n",
    "print('Matrix B:\\n', B)"
   ]
  },
  {
   "cell_type": "code",
   "execution_count": 21,
   "metadata": {},
   "outputs": [
    {
     "data": {
      "text/plain": [
       "array([[  0,   7,  18],\n",
       "       [ 33,  52,  75],\n",
       "       [102, 133, 168]])"
      ]
     },
     "execution_count": 21,
     "metadata": {},
     "output_type": "execute_result"
    }
   ],
   "source": [
    "# now do some calculations with the two matrices:\n",
    "# element wise product\n",
    "A * B"
   ]
  },
  {
   "cell_type": "code",
   "execution_count": 22,
   "metadata": {},
   "outputs": [
    {
     "data": {
      "text/plain": [
       "array([[ 45,  51,  57],\n",
       "       [144, 168, 192],\n",
       "       [243, 285, 327]])"
      ]
     },
     "execution_count": 22,
     "metadata": {},
     "output_type": "execute_result"
    }
   ],
   "source": [
    "# matrix product\n",
    "A @ B"
   ]
  },
  {
   "cell_type": "markdown",
   "metadata": {},
   "source": [
    "### Exercise :\n",
    "\n",
    "* <b>Calculate the sum of each row of the matrix product of A and B.</b>"
   ]
  },
  {
   "cell_type": "markdown",
   "metadata": {},
   "source": [
    "Try yourself first, then click on :\n",
    "\n",
    "<details><summary><b>Open Solution</b></summary>\n",
    "\n",
    "```python\n",
    "    matrix_product= A@B\n",
    "    print(matrix_product.sum(axis=1))\n",
    "\n",
    "    \n",
    "```\n",
    "    \n",
    "</details>"
   ]
  },
  {
   "cell_type": "markdown",
   "metadata": {},
   "source": [
    "The functionality shown is just a fraction of what *numpy* can be used for. Nonetheless, it gives a first look into what *numpy* is capable of. Also, *numpy* is the powerhouse on which many scientific libraries like *scipy* and *pandas* are build on."
   ]
  },
  {
   "cell_type": "markdown",
   "metadata": {},
   "source": [
    "<a id=\"matplotlib\"></a>\n",
    "\n",
    "### *matplotlib* Module\n",
    "\n",
    "The goto library in Python to create visualizations is *matplotlib*. It is a vast library that gives you a lot of power over how you want your plots to look like. We provide some examples in the following."
   ]
  },
  {
   "cell_type": "code",
   "execution_count": 25,
   "metadata": {},
   "outputs": [],
   "source": [
    "import numpy as np\n",
    "import matplotlib.pyplot as plt \n",
    "x_values = np.arange(0, 40, 0.1)\n",
    "y_values = [math.sin(x) for x in x_values]"
   ]
  },
  {
   "cell_type": "code",
   "execution_count": 26,
   "metadata": {},
   "outputs": [
    {
     "data": {
      "image/png": "[encoded data removed]",
      "text/plain": [
       "<Figure size 432x288 with 1 Axes>"
      ]
     },
     "metadata": {
      "needs_background": "light"
     },
     "output_type": "display_data"
    }
   ],
   "source": [
    "#the function 'plot' connects the points by lines\n",
    "plt.plot(x_values, y_values);"
   ]
  },
  {
   "cell_type": "code",
   "execution_count": 27,
   "metadata": {},
   "outputs": [
    {
     "data": {
      "image/png": "[encoded data removed]",
      "text/plain": [
       "<Figure size 432x288 with 1 Axes>"
      ]
     },
     "metadata": {
      "needs_background": "light"
     },
     "output_type": "display_data"
    }
   ],
   "source": [
    "#the function scatter just displays the points\n",
    "plt.scatter(x_values, y_values);"
   ]
  },
  {
   "cell_type": "code",
   "execution_count": 28,
   "metadata": {},
   "outputs": [
    {
     "data": {
      "image/png": "[encoded data removed]",
      "text/plain": [
       "<Figure size 432x288 with 1 Axes>"
      ]
     },
     "metadata": {
      "needs_background": "light"
     },
     "output_type": "display_data"
    }
   ],
   "source": [
    "#th boxplot is relevant in statistics to get an overview of the distribution of a variable\n",
    "_ = plt.boxplot(y_values) #conventionally one uses the variable '_' if one is not interested in the return value"
   ]
  },
  {
   "cell_type": "code",
   "execution_count": 29,
   "metadata": {},
   "outputs": [
    {
     "data": {
      "image/png": "[encoded data removed]",
      "text/plain": [
       "<Figure size 432x288 with 1 Axes>"
      ]
     },
     "metadata": {
      "needs_background": "light"
     },
     "output_type": "display_data"
    }
   ],
   "source": [
    "#Histograms allow to view the distribution in more detail:\n",
    "# Build a vector of 10000 normal deviates with variance 0.5^2 and mean 2\n",
    "mu, sigma = 2, 0.5 # define mean and sigma\n",
    "v = np.random.normal(mu, sigma, 10000) # draw 10000 data points from the distribution\n",
    "# Plot a normalized histogram with 50 bins\n",
    "_ = plt.hist(v, bins=50, density=1)"
   ]
  },
  {
   "cell_type": "code",
   "execution_count": 30,
   "metadata": {},
   "outputs": [
    {
     "data": {
      "image/png": "[encoded data removed]",
      "text/plain": [
       "<Figure size 432x288 with 1 Axes>"
      ]
     },
     "metadata": {
      "needs_background": "light"
     },
     "output_type": "display_data"
    }
   ],
   "source": [
    "#Don't forget to label the axis:\n",
    "plt.hist(v, bins=50, density=1)\n",
    "plt.ylabel('Probability')\n",
    "plt.xlabel('Values')\n",
    "_ = plt.title('Histogram with 10k values drawn from  the normal distribution')"
   ]
  },
  {
   "cell_type": "markdown",
   "metadata": {},
   "source": [
    "### Exercise:\n",
    "\n",
    "* <b>Create a boxplot and a histogram for the variable 'z' defined below. </b> \n",
    "* <b>Label the axis of the histogram as 'Probability' (vertical axis) and z (horizontal axis) and give a reasonable title.</b>"
   ]
  },
  {
   "cell_type": "code",
   "execution_count": 31,
   "metadata": {},
   "outputs": [],
   "source": [
    "z = np.random.gamma(2, 2, 10000)\n",
    "#Write your code here:\n"
   ]
  },
  {
   "cell_type": "markdown",
   "metadata": {},
   "source": [
    "Try yourself first, then click on :\n",
    "\n",
    "<details><summary><b>Open Solution</b></summary>\n",
    "\n",
    "```python\n",
    "z = np.random.gamma(2, 2, 10000)\n",
    "#Write your code here:\n",
    "#create box plot:\n",
    "_ = plt.boxplot(z)\n",
    "#create histogram:\n",
    "_ = plt.hist(z, bins=50, density=1)\n",
    "plt.ylabel('Probability')\n",
    "plt.xlabel('z')\n",
    "_ = plt.title('Histogram of 10000 samples drawn from a gamma distribution')\n",
    "    \n",
    "```\n",
    "    \n",
    "</details>"
   ]
  },
  {
   "cell_type": "markdown",
   "metadata": {},
   "source": [
    "There are several other types of plots that can be easily used with *matplotlib*. [Here](https://matplotlib.org/3.1.1/tutorials/introductory/pyplot.html) is the introductory page of the library. [This](https://matplotlib.org/gallery.html) page and [this](https://python-graph-gallery.com/matplotlib/) page give an overview of types of plots that are possible with *matplotlib*. For complex figures have a look at the [*seaborne*](https://seaborn.pydata.org/examples/index.html) module. It provides complex figures out of the box and is build on top of *matplotlib*."
   ]
  },
  {
   "cell_type": "markdown",
   "metadata": {},
   "source": [
    "The example below is taken from the [*seaborn* gallery](https://seaborn.pydata.org/examples/structured_heatmap.html)."
   ]
  },
  {
   "cell_type": "code",
   "execution_count": 32,
   "metadata": {},
   "outputs": [
    {
     "name": "stderr",
     "output_type": "stream",
     "text": [
      "/home/florian/anaconda3/envs/pythonIntro/lib/python3.10/site-packages/scipy/__init__.py:146: UserWarning: A NumPy version >=1.16.5 and <1.23.0 is required for this version of SciPy (detected version 1.23.1\n",
      "  warnings.warn(f\"A NumPy version >={np_minversion} and <{np_maxversion}\"\n"
     ]
    }
   ],
   "source": [
    "from string import ascii_letters\n",
    "import numpy as np\n",
    "import pandas as pd\n",
    "import seaborn as sns\n",
    "import matplotlib.pyplot as plt\n",
    "\n",
    "sns.set_theme(style=\"white\")\n",
    "\n",
    "# Generate a large random dataset\n",
    "rs = np.random.RandomState(33)\n",
    "d = pd.DataFrame(data=rs.normal(size=(100, 26)),\n",
    "                 columns=list(ascii_letters[26:]))"
   ]
  },
  {
   "cell_type": "code",
   "execution_count": 33,
   "metadata": {},
   "outputs": [
    {
     "data": {
      "text/html": [
       "<div>\n",
       "<style scoped>\n",
       "    .dataframe tbody tr th:only-of-type {\n",
       "        vertical-align: middle;\n",
       "    }\n",
       "\n",
       "    .dataframe tbody tr th {\n",
       "        vertical-align: top;\n",
       "    }\n",
       "\n",
       "    .dataframe thead th {\n",
       "        text-align: right;\n",
       "    }\n",
       "</style>\n",
       "<table border=\"1\" class=\"dataframe\">\n",
       "  <thead>\n",
       "    <tr style=\"text-align: right;\">\n",
       "      <th></th>\n",
       "      <th>A</th>\n",
       "      <th>B</th>\n",
       "      <th>C</th>\n",
       "      <th>D</th>\n",
       "      <th>E</th>\n",
       "      <th>F</th>\n",
       "      <th>G</th>\n",
       "      <th>H</th>\n",
       "      <th>I</th>\n",
       "      <th>J</th>\n",
       "      <th>...</th>\n",
       "      <th>Q</th>\n",
       "      <th>R</th>\n",
       "      <th>S</th>\n",
       "      <th>T</th>\n",
       "      <th>U</th>\n",
       "      <th>V</th>\n",
       "      <th>W</th>\n",
       "      <th>X</th>\n",
       "      <th>Y</th>\n",
       "      <th>Z</th>\n",
       "    </tr>\n",
       "  </thead>\n",
       "  <tbody>\n",
       "    <tr>\n",
       "      <th>0</th>\n",
       "      <td>-0.318854</td>\n",
       "      <td>-1.602981</td>\n",
       "      <td>-1.535218</td>\n",
       "      <td>-0.570401</td>\n",
       "      <td>-0.216728</td>\n",
       "      <td>0.254874</td>\n",
       "      <td>-0.149450</td>\n",
       "      <td>2.010783</td>\n",
       "      <td>-0.096784</td>\n",
       "      <td>0.422202</td>\n",
       "      <td>...</td>\n",
       "      <td>-0.951219</td>\n",
       "      <td>0.832973</td>\n",
       "      <td>-1.000208</td>\n",
       "      <td>0.343463</td>\n",
       "      <td>1.546030</td>\n",
       "      <td>0.690081</td>\n",
       "      <td>-2.045853</td>\n",
       "      <td>0.334467</td>\n",
       "      <td>-0.641459</td>\n",
       "      <td>-0.222497</td>\n",
       "    </tr>\n",
       "    <tr>\n",
       "      <th>1</th>\n",
       "      <td>-1.230374</td>\n",
       "      <td>0.205848</td>\n",
       "      <td>0.821371</td>\n",
       "      <td>-0.493780</td>\n",
       "      <td>-1.408794</td>\n",
       "      <td>-1.216324</td>\n",
       "      <td>1.734299</td>\n",
       "      <td>-0.206790</td>\n",
       "      <td>-0.733189</td>\n",
       "      <td>0.774163</td>\n",
       "      <td>...</td>\n",
       "      <td>-0.148826</td>\n",
       "      <td>-0.606270</td>\n",
       "      <td>-1.185801</td>\n",
       "      <td>0.455504</td>\n",
       "      <td>-0.837645</td>\n",
       "      <td>-0.146961</td>\n",
       "      <td>-0.682350</td>\n",
       "      <td>1.487670</td>\n",
       "      <td>-1.094711</td>\n",
       "      <td>-1.654707</td>\n",
       "    </tr>\n",
       "    <tr>\n",
       "      <th>2</th>\n",
       "      <td>-0.023842</td>\n",
       "      <td>-0.363738</td>\n",
       "      <td>-0.482943</td>\n",
       "      <td>0.739577</td>\n",
       "      <td>0.611252</td>\n",
       "      <td>0.491802</td>\n",
       "      <td>1.792924</td>\n",
       "      <td>-0.683737</td>\n",
       "      <td>1.054113</td>\n",
       "      <td>-0.615562</td>\n",
       "      <td>...</td>\n",
       "      <td>-1.120717</td>\n",
       "      <td>0.991136</td>\n",
       "      <td>1.630796</td>\n",
       "      <td>-1.900090</td>\n",
       "      <td>0.062316</td>\n",
       "      <td>0.479998</td>\n",
       "      <td>0.379609</td>\n",
       "      <td>-1.512245</td>\n",
       "      <td>0.289020</td>\n",
       "      <td>0.095524</td>\n",
       "    </tr>\n",
       "    <tr>\n",
       "      <th>3</th>\n",
       "      <td>-0.292821</td>\n",
       "      <td>0.856582</td>\n",
       "      <td>0.933473</td>\n",
       "      <td>-0.421045</td>\n",
       "      <td>1.590430</td>\n",
       "      <td>-1.063801</td>\n",
       "      <td>2.104884</td>\n",
       "      <td>-1.090494</td>\n",
       "      <td>1.484521</td>\n",
       "      <td>-1.089229</td>\n",
       "      <td>...</td>\n",
       "      <td>0.230258</td>\n",
       "      <td>0.195235</td>\n",
       "      <td>0.535839</td>\n",
       "      <td>0.684299</td>\n",
       "      <td>2.821279</td>\n",
       "      <td>0.916504</td>\n",
       "      <td>0.150722</td>\n",
       "      <td>0.017747</td>\n",
       "      <td>0.006885</td>\n",
       "      <td>0.329035</td>\n",
       "    </tr>\n",
       "    <tr>\n",
       "      <th>4</th>\n",
       "      <td>-0.587376</td>\n",
       "      <td>1.751572</td>\n",
       "      <td>0.308274</td>\n",
       "      <td>-0.894283</td>\n",
       "      <td>-0.769156</td>\n",
       "      <td>0.869197</td>\n",
       "      <td>0.371381</td>\n",
       "      <td>-0.628362</td>\n",
       "      <td>-0.922477</td>\n",
       "      <td>-0.903391</td>\n",
       "      <td>...</td>\n",
       "      <td>1.519031</td>\n",
       "      <td>0.749896</td>\n",
       "      <td>-2.269087</td>\n",
       "      <td>-0.760599</td>\n",
       "      <td>-0.955502</td>\n",
       "      <td>0.923951</td>\n",
       "      <td>0.315157</td>\n",
       "      <td>1.340910</td>\n",
       "      <td>0.678992</td>\n",
       "      <td>0.594258</td>\n",
       "    </tr>\n",
       "    <tr>\n",
       "      <th>...</th>\n",
       "      <td>...</td>\n",
       "      <td>...</td>\n",
       "      <td>...</td>\n",
       "      <td>...</td>\n",
       "      <td>...</td>\n",
       "      <td>...</td>\n",
       "      <td>...</td>\n",
       "      <td>...</td>\n",
       "      <td>...</td>\n",
       "      <td>...</td>\n",
       "      <td>...</td>\n",
       "      <td>...</td>\n",
       "      <td>...</td>\n",
       "      <td>...</td>\n",
       "      <td>...</td>\n",
       "      <td>...</td>\n",
       "      <td>...</td>\n",
       "      <td>...</td>\n",
       "      <td>...</td>\n",
       "      <td>...</td>\n",
       "      <td>...</td>\n",
       "    </tr>\n",
       "    <tr>\n",
       "      <th>95</th>\n",
       "      <td>-1.036298</td>\n",
       "      <td>-1.177101</td>\n",
       "      <td>-2.472118</td>\n",
       "      <td>-0.370044</td>\n",
       "      <td>0.108184</td>\n",
       "      <td>-0.753487</td>\n",
       "      <td>-0.331042</td>\n",
       "      <td>2.203373</td>\n",
       "      <td>-0.319100</td>\n",
       "      <td>0.428793</td>\n",
       "      <td>...</td>\n",
       "      <td>-0.087225</td>\n",
       "      <td>0.190644</td>\n",
       "      <td>-0.506678</td>\n",
       "      <td>-0.442679</td>\n",
       "      <td>-1.186259</td>\n",
       "      <td>0.743655</td>\n",
       "      <td>-1.842236</td>\n",
       "      <td>0.702369</td>\n",
       "      <td>-0.726212</td>\n",
       "      <td>-0.792110</td>\n",
       "    </tr>\n",
       "    <tr>\n",
       "      <th>96</th>\n",
       "      <td>-0.681074</td>\n",
       "      <td>2.203923</td>\n",
       "      <td>1.555724</td>\n",
       "      <td>-0.808559</td>\n",
       "      <td>-1.415792</td>\n",
       "      <td>0.586590</td>\n",
       "      <td>0.393986</td>\n",
       "      <td>0.455118</td>\n",
       "      <td>-0.050184</td>\n",
       "      <td>1.298277</td>\n",
       "      <td>...</td>\n",
       "      <td>-0.607768</td>\n",
       "      <td>0.051741</td>\n",
       "      <td>-1.183910</td>\n",
       "      <td>0.830444</td>\n",
       "      <td>0.911260</td>\n",
       "      <td>-1.470621</td>\n",
       "      <td>-0.450259</td>\n",
       "      <td>-1.146024</td>\n",
       "      <td>-0.548446</td>\n",
       "      <td>-0.016534</td>\n",
       "    </tr>\n",
       "    <tr>\n",
       "      <th>97</th>\n",
       "      <td>0.616011</td>\n",
       "      <td>0.162773</td>\n",
       "      <td>-0.425326</td>\n",
       "      <td>2.040243</td>\n",
       "      <td>0.339979</td>\n",
       "      <td>0.489751</td>\n",
       "      <td>1.030780</td>\n",
       "      <td>1.061831</td>\n",
       "      <td>-0.040148</td>\n",
       "      <td>-1.406366</td>\n",
       "      <td>...</td>\n",
       "      <td>-1.248445</td>\n",
       "      <td>-0.530126</td>\n",
       "      <td>-0.045328</td>\n",
       "      <td>1.314023</td>\n",
       "      <td>-0.203060</td>\n",
       "      <td>0.767502</td>\n",
       "      <td>2.055105</td>\n",
       "      <td>-0.131154</td>\n",
       "      <td>-1.185281</td>\n",
       "      <td>-0.208766</td>\n",
       "    </tr>\n",
       "    <tr>\n",
       "      <th>98</th>\n",
       "      <td>-1.268506</td>\n",
       "      <td>-0.815121</td>\n",
       "      <td>-1.670919</td>\n",
       "      <td>-1.103345</td>\n",
       "      <td>-1.348075</td>\n",
       "      <td>0.157345</td>\n",
       "      <td>0.249971</td>\n",
       "      <td>0.581991</td>\n",
       "      <td>0.115223</td>\n",
       "      <td>-0.898088</td>\n",
       "      <td>...</td>\n",
       "      <td>0.227623</td>\n",
       "      <td>-0.147131</td>\n",
       "      <td>0.692395</td>\n",
       "      <td>-1.308567</td>\n",
       "      <td>-1.197288</td>\n",
       "      <td>-1.348862</td>\n",
       "      <td>-1.612158</td>\n",
       "      <td>0.968366</td>\n",
       "      <td>-0.936233</td>\n",
       "      <td>-0.733935</td>\n",
       "    </tr>\n",
       "    <tr>\n",
       "      <th>99</th>\n",
       "      <td>0.719434</td>\n",
       "      <td>-1.451263</td>\n",
       "      <td>0.173934</td>\n",
       "      <td>-0.401525</td>\n",
       "      <td>-0.971152</td>\n",
       "      <td>0.531255</td>\n",
       "      <td>1.649531</td>\n",
       "      <td>-0.252332</td>\n",
       "      <td>-0.903050</td>\n",
       "      <td>-0.773817</td>\n",
       "      <td>...</td>\n",
       "      <td>-0.555178</td>\n",
       "      <td>0.768933</td>\n",
       "      <td>0.101751</td>\n",
       "      <td>0.146673</td>\n",
       "      <td>1.483816</td>\n",
       "      <td>-1.319752</td>\n",
       "      <td>0.101646</td>\n",
       "      <td>0.145410</td>\n",
       "      <td>-0.363424</td>\n",
       "      <td>0.937096</td>\n",
       "    </tr>\n",
       "  </tbody>\n",
       "</table>\n",
       "<p>100 rows × 26 columns</p>\n",
       "</div>"
      ],
      "text/plain": [
       "           A         B         C         D         E         F         G  \\\n",
       "0  -0.318854 -1.602981 -1.535218 -0.570401 -0.216728  0.254874 -0.149450   \n",
       "1  -1.230374  0.205848  0.821371 -0.493780 -1.408794 -1.216324  1.734299   \n",
       "2  -0.023842 -0.363738 -0.482943  0.739577  0.611252  0.491802  1.792924   \n",
       "3  -0.292821  0.856582  0.933473 -0.421045  1.590430 -1.063801  2.104884   \n",
       "4  -0.587376  1.751572  0.308274 -0.894283 -0.769156  0.869197  0.371381   \n",
       "..       ...       ...       ...       ...       ...       ...       ...   \n",
       "95 -1.036298 -1.177101 -2.472118 -0.370044  0.108184 -0.753487 -0.331042   \n",
       "96 -0.681074  2.203923  1.555724 -0.808559 -1.415792  0.586590  0.393986   \n",
       "97  0.616011  0.162773 -0.425326  2.040243  0.339979  0.489751  1.030780   \n",
       "98 -1.268506 -0.815121 -1.670919 -1.103345 -1.348075  0.157345  0.249971   \n",
       "99  0.719434 -1.451263  0.173934 -0.401525 -0.971152  0.531255  1.649531   \n",
       "\n",
       "           H         I         J  ...         Q         R         S         T  \\\n",
       "0   2.010783 -0.096784  0.422202  ... -0.951219  0.832973 -1.000208  0.343463   \n",
       "1  -0.206790 -0.733189  0.774163  ... -0.148826 -0.606270 -1.185801  0.455504   \n",
       "2  -0.683737  1.054113 -0.615562  ... -1.120717  0.991136  1.630796 -1.900090   \n",
       "3  -1.090494  1.484521 -1.089229  ...  0.230258  0.195235  0.535839  0.684299   \n",
       "4  -0.628362 -0.922477 -0.903391  ...  1.519031  0.749896 -2.269087 -0.760599   \n",
       "..       ...       ...       ...  ...       ...       ...       ...       ...   \n",
       "95  2.203373 -0.319100  0.428793  ... -0.087225  0.190644 -0.506678 -0.442679   \n",
       "96  0.455118 -0.050184  1.298277  ... -0.607768  0.051741 -1.183910  0.830444   \n",
       "97  1.061831 -0.040148 -1.406366  ... -1.248445 -0.530126 -0.045328  1.314023   \n",
       "98  0.581991  0.115223 -0.898088  ...  0.227623 -0.147131  0.692395 -1.308567   \n",
       "99 -0.252332 -0.903050 -0.773817  ... -0.555178  0.768933  0.101751  0.146673   \n",
       "\n",
       "           U         V         W         X         Y         Z  \n",
       "0   1.546030  0.690081 -2.045853  0.334467 -0.641459 -0.222497  \n",
       "1  -0.837645 -0.146961 -0.682350  1.487670 -1.094711 -1.654707  \n",
       "2   0.062316  0.479998  0.379609 -1.512245  0.289020  0.095524  \n",
       "3   2.821279  0.916504  0.150722  0.017747  0.006885  0.329035  \n",
       "4  -0.955502  0.923951  0.315157  1.340910  0.678992  0.594258  \n",
       "..       ...       ...       ...       ...       ...       ...  \n",
       "95 -1.186259  0.743655 -1.842236  0.702369 -0.726212 -0.792110  \n",
       "96  0.911260 -1.470621 -0.450259 -1.146024 -0.548446 -0.016534  \n",
       "97 -0.203060  0.767502  2.055105 -0.131154 -1.185281 -0.208766  \n",
       "98 -1.197288 -1.348862 -1.612158  0.968366 -0.936233 -0.733935  \n",
       "99  1.483816 -1.319752  0.101646  0.145410 -0.363424  0.937096  \n",
       "\n",
       "[100 rows x 26 columns]"
      ]
     },
     "execution_count": 33,
     "metadata": {},
     "output_type": "execute_result"
    }
   ],
   "source": [
    "d"
   ]
  },
  {
   "cell_type": "code",
   "execution_count": 34,
   "metadata": {},
   "outputs": [
    {
     "data": {
      "text/plain": [
       "<AxesSubplot:>"
      ]
     },
     "execution_count": 34,
     "metadata": {},
     "output_type": "execute_result"
    },
    {
     "data": {
      "image/png": "[encoded data removed]",
      "text/plain": [
       "<Figure size 792x648 with 2 Axes>"
      ]
     },
     "metadata": {},
     "output_type": "display_data"
    }
   ],
   "source": [
    "# Compute the correlation matrix\n",
    "corr = d.corr()\n",
    "\n",
    "# Generate a mask for the upper triangle\n",
    "mask = np.triu(np.ones_like(corr, dtype=bool))\n",
    "\n",
    "# Set up the matplotlib figure\n",
    "f, ax = plt.subplots(figsize=(11, 9))\n",
    "\n",
    "# Generate a custom diverging colormap\n",
    "cmap = sns.diverging_palette(230, 20, as_cmap=True)\n",
    "\n",
    "# Draw the heatmap with the mask and correct aspect ratio\n",
    "sns.heatmap(corr, mask=mask, cmap=cmap, vmax=.3, center=0,\n",
    "            square=True, linewidths=.5, cbar_kws={\"shrink\": .5})"
   ]
  },
  {
   "cell_type": "markdown",
   "metadata": {},
   "source": [
    "<a id=\"file-operations\"></a>\n",
    "## File Operations\n",
    "[back to TOC](#contents)\n",
    "\n",
    "Data that is manipulated can come from many sources. One of the most common is a file. Reading from files and writing to files can be achieved in different ways in Python.\n",
    "\n",
    "We will cover three ways:\n",
    "  - [Standard `open()`, `close()`](#open-close)\n",
    "  - [The `with` statement](#with-statement)\n",
    "  - [*pandas* module](#pandas-module)"
   ]
  },
  {
   "cell_type": "code",
   "execution_count": 35,
   "metadata": {},
   "outputs": [],
   "source": [
    "import pathlib\n",
    "import errno\n",
    "\n",
    "root_dir = pathlib.Path.cwd().parent\n",
    "data_file = 'Data/input_for_loop_exercise.txt'"
   ]
  },
  {
   "cell_type": "markdown",
   "metadata": {},
   "source": [
    "<a id=\"open-close\"></a>\n",
    "### Standard `open()`, `close()`"
   ]
  },
  {
   "cell_type": "code",
   "execution_count": 36,
   "metadata": {},
   "outputs": [
    {
     "name": "stdout",
     "output_type": "stream",
     "text": [
      "<_io.TextIOWrapper name='Data/input_for_loop_exercise.txt' mode='r' encoding='UTF-8'>\n"
     ]
    }
   ],
   "source": [
    "# open the path where we know that the file resides\n",
    "file = open(data_file, 'r')\n",
    "# check what we get as 'file'\n",
    "print(file)"
   ]
  },
  {
   "cell_type": "code",
   "execution_count": 37,
   "metadata": {},
   "outputs": [
    {
     "name": "stdout",
     "output_type": "stream",
     "text": [
      "#first line comment\n",
      "\n",
      "header1,header2,header3,header4\n",
      "\n"
     ]
    }
   ],
   "source": [
    "file = open(data_file, 'r')\n",
    "#we can read the file line by line by using 'readline' repeatedly\n",
    "print(file.readline())\n",
    "print(file.readline())"
   ]
  },
  {
   "cell_type": "code",
   "execution_count": 38,
   "metadata": {},
   "outputs": [
    {
     "name": "stdout",
     "output_type": "stream",
     "text": [
      "['#first line comment\\n', 'header1,header2,header3,header4\\n', '1,2,3,4\\n', '5,6,7,8\\n', '10,11,12,13\\n', '# last line comment\\n']\n"
     ]
    }
   ],
   "source": [
    "file = open(data_file, 'r')\n",
    "# reading each line by hand is pretty cumbersome\n",
    "# we can read the whole content of the file with one\n",
    "# statement and get a list of it's lines\n",
    "print(file.readlines())"
   ]
  },
  {
   "cell_type": "code",
   "execution_count": 39,
   "metadata": {},
   "outputs": [
    {
     "name": "stdout",
     "output_type": "stream",
     "text": [
      "#first line comment\n",
      "\n",
      "header1,header2,header3,header4\n",
      "\n",
      "1,2,3,4\n",
      "\n",
      "5,6,7,8\n",
      "\n",
      "10,11,12,13\n",
      "\n",
      "# last line comment\n",
      "\n"
     ]
    }
   ],
   "source": [
    "file = open(data_file, 'r')\n",
    "# or we simply iterate over the lines of the file\n",
    "for line in file:\n",
    "    print(line)"
   ]
  },
  {
   "cell_type": "code",
   "execution_count": 40,
   "metadata": {},
   "outputs": [
    {
     "name": "stdout",
     "output_type": "stream",
     "text": [
      "#first line comment\n",
      "header1,header2,header3,header4\n",
      "1,2,3,4\n",
      "5,6,7,8\n",
      "10,11,12,13\n",
      "# last line comment\n"
     ]
    }
   ],
   "source": [
    "file = open(data_file, 'r')\n",
    "# the empty lines come from the '\\n' characters that end each line\n",
    "# if we want them not printed, we need to strip them from each line\n",
    "for line in file:\n",
    "    print(line.strip('\\n'))"
   ]
  },
  {
   "cell_type": "markdown",
   "metadata": {},
   "source": [
    "We have covered the `open()` statement so far, what about the `close()` statement? There are several reasons why you should call the `close()` function on a file object. See [this](https://askubuntu.com/questions/701491/is-closing-a-file-after-having-opened-it-with-open-required-in-python) StackOverflow answer for some reasons."
   ]
  },
  {
   "cell_type": "code",
   "execution_count": 41,
   "metadata": {},
   "outputs": [
    {
     "name": "stdout",
     "output_type": "stream",
     "text": [
      "#first line comment\n",
      "header1,header2,header3,header4\n",
      "1,2,3,4\n",
      "5,6,7,8\n",
      "10,11,12,13\n",
      "# last line comment\n",
      "\n"
     ]
    }
   ],
   "source": [
    "# with our current tools we might do something like the following\n",
    "file = open(data_file, 'r')\n",
    "content = file.read()\n",
    "file.close()\n",
    "print(content)"
   ]
  },
  {
   "cell_type": "markdown",
   "metadata": {},
   "source": [
    "This is a totally valid piece of code. It has a few shortcommings, though. Hence, it would be safer if we would do something like the following:\n"
   ]
  },
  {
   "cell_type": "code",
   "execution_count": 42,
   "metadata": {},
   "outputs": [
    {
     "name": "stdout",
     "output_type": "stream",
     "text": [
      "#first line comment\n",
      "header1,header2,header3,header4\n",
      "1,2,3,4\n",
      "5,6,7,8\n",
      "10,11,12,13\n",
      "# last line comment\n",
      "\n"
     ]
    }
   ],
   "source": [
    "try:\n",
    "    file = open(data_file, 'r')\n",
    "    content = file.read()\n",
    "    # in case all went well, the content is printed\n",
    "    print(content)\n",
    "except:\n",
    "    # if we would not close it here, the file would stay open in case an except\n",
    "    file.close()\n"
   ]
  },
  {
   "cell_type": "markdown",
   "metadata": {},
   "source": [
    "<a id=\"with-statement\"></a>\n",
    "### `with` Statement"
   ]
  },
  {
   "cell_type": "markdown",
   "metadata": {},
   "source": [
    "All the pitfalls shown above can be circumvented by using the `with` statement. An example can be found [here](https://pythontips.com/2014/01/15/the-open-function-explained/). The `with` statement takes care of the correct handling of all the background tasks like correclty closing the file in all cases."
   ]
  },
  {
   "cell_type": "code",
   "execution_count": 43,
   "metadata": {},
   "outputs": [
    {
     "name": "stdout",
     "output_type": "stream",
     "text": [
      "#first line comment\n",
      "header1,header2,header3,header4\n",
      "1,2,3,4\n",
      "5,6,7,8\n",
      "10,11,12,13\n",
      "# last line comment\n",
      "\n"
     ]
    }
   ],
   "source": [
    "with open(data_file, 'r') as file:\n",
    "    content = file.read()\n",
    "    print(content)    "
   ]
  },
  {
   "cell_type": "markdown",
   "metadata": {},
   "source": [
    "<a id=\"pandas-module\"></a>\n",
    "### *pandas* Module\n",
    "\n",
    "The *pandas* module provides an easy way to read well structured data like a CSV file (one like we have here)."
   ]
  },
  {
   "cell_type": "code",
   "execution_count": 44,
   "metadata": {},
   "outputs": [],
   "source": [
    "import pandas as pd\n",
    "\n",
    "# list of inteagers that will be basis for our datafram\n",
    "lst = [[1, 2, 3, 4],\n",
    "       [4, 5, 6, 7]]\n",
    "  \n",
    "# Calling DataFrame constructor on list\n",
    "df1 = pd.DataFrame(lst, columns =['header1', 'header2', 'header3', 'header4'])\n",
    "\n",
    "# the following line reads the file, skips the first and last line\n",
    "# and stores the content in a pandas 'dataframe' which is printed instantly here\n",
    "df2 = pd.read_csv(data_file, header=1, skipfooter=1, engine='python')"
   ]
  },
  {
   "cell_type": "code",
   "execution_count": 45,
   "metadata": {},
   "outputs": [
    {
     "data": {
      "text/html": [
       "<div>\n",
       "<style scoped>\n",
       "    .dataframe tbody tr th:only-of-type {\n",
       "        vertical-align: middle;\n",
       "    }\n",
       "\n",
       "    .dataframe tbody tr th {\n",
       "        vertical-align: top;\n",
       "    }\n",
       "\n",
       "    .dataframe thead th {\n",
       "        text-align: right;\n",
       "    }\n",
       "</style>\n",
       "<table border=\"1\" class=\"dataframe\">\n",
       "  <thead>\n",
       "    <tr style=\"text-align: right;\">\n",
       "      <th></th>\n",
       "      <th>header1</th>\n",
       "      <th>header2</th>\n",
       "      <th>header3</th>\n",
       "      <th>header4</th>\n",
       "    </tr>\n",
       "  </thead>\n",
       "  <tbody>\n",
       "    <tr>\n",
       "      <th>0</th>\n",
       "      <td>1</td>\n",
       "      <td>2</td>\n",
       "      <td>3</td>\n",
       "      <td>4</td>\n",
       "    </tr>\n",
       "    <tr>\n",
       "      <th>1</th>\n",
       "      <td>4</td>\n",
       "      <td>5</td>\n",
       "      <td>6</td>\n",
       "      <td>7</td>\n",
       "    </tr>\n",
       "  </tbody>\n",
       "</table>\n",
       "</div>"
      ],
      "text/plain": [
       "   header1  header2  header3  header4\n",
       "0        1        2        3        4\n",
       "1        4        5        6        7"
      ]
     },
     "execution_count": 45,
     "metadata": {},
     "output_type": "execute_result"
    }
   ],
   "source": [
    "df1"
   ]
  },
  {
   "cell_type": "code",
   "execution_count": 46,
   "metadata": {},
   "outputs": [
    {
     "data": {
      "text/html": [
       "<div>\n",
       "<style scoped>\n",
       "    .dataframe tbody tr th:only-of-type {\n",
       "        vertical-align: middle;\n",
       "    }\n",
       "\n",
       "    .dataframe tbody tr th {\n",
       "        vertical-align: top;\n",
       "    }\n",
       "\n",
       "    .dataframe thead th {\n",
       "        text-align: right;\n",
       "    }\n",
       "</style>\n",
       "<table border=\"1\" class=\"dataframe\">\n",
       "  <thead>\n",
       "    <tr style=\"text-align: right;\">\n",
       "      <th></th>\n",
       "      <th>header1</th>\n",
       "      <th>header2</th>\n",
       "      <th>header3</th>\n",
       "      <th>header4</th>\n",
       "    </tr>\n",
       "  </thead>\n",
       "  <tbody>\n",
       "    <tr>\n",
       "      <th>0</th>\n",
       "      <td>1</td>\n",
       "      <td>2</td>\n",
       "      <td>3</td>\n",
       "      <td>4</td>\n",
       "    </tr>\n",
       "    <tr>\n",
       "      <th>1</th>\n",
       "      <td>5</td>\n",
       "      <td>6</td>\n",
       "      <td>7</td>\n",
       "      <td>8</td>\n",
       "    </tr>\n",
       "    <tr>\n",
       "      <th>2</th>\n",
       "      <td>10</td>\n",
       "      <td>11</td>\n",
       "      <td>12</td>\n",
       "      <td>13</td>\n",
       "    </tr>\n",
       "  </tbody>\n",
       "</table>\n",
       "</div>"
      ],
      "text/plain": [
       "   header1  header2  header3  header4\n",
       "0        1        2        3        4\n",
       "1        5        6        7        8\n",
       "2       10       11       12       13"
      ]
     },
     "execution_count": 46,
     "metadata": {},
     "output_type": "execute_result"
    }
   ],
   "source": [
    "df2"
   ]
  },
  {
   "cell_type": "code",
   "execution_count": 47,
   "metadata": {},
   "outputs": [
    {
     "data": {
      "text/html": [
       "<div>\n",
       "<style scoped>\n",
       "    .dataframe tbody tr th:only-of-type {\n",
       "        vertical-align: middle;\n",
       "    }\n",
       "\n",
       "    .dataframe tbody tr th {\n",
       "        vertical-align: top;\n",
       "    }\n",
       "\n",
       "    .dataframe thead th {\n",
       "        text-align: right;\n",
       "    }\n",
       "</style>\n",
       "<table border=\"1\" class=\"dataframe\">\n",
       "  <thead>\n",
       "    <tr style=\"text-align: right;\">\n",
       "      <th></th>\n",
       "      <th>header1</th>\n",
       "      <th>header2</th>\n",
       "      <th>header3</th>\n",
       "      <th>header4</th>\n",
       "    </tr>\n",
       "  </thead>\n",
       "  <tbody>\n",
       "    <tr>\n",
       "      <th>0</th>\n",
       "      <td>1</td>\n",
       "      <td>2</td>\n",
       "      <td>3</td>\n",
       "      <td>4</td>\n",
       "    </tr>\n",
       "    <tr>\n",
       "      <th>1</th>\n",
       "      <td>4</td>\n",
       "      <td>5</td>\n",
       "      <td>6</td>\n",
       "      <td>7</td>\n",
       "    </tr>\n",
       "    <tr>\n",
       "      <th>0</th>\n",
       "      <td>1</td>\n",
       "      <td>2</td>\n",
       "      <td>3</td>\n",
       "      <td>4</td>\n",
       "    </tr>\n",
       "    <tr>\n",
       "      <th>1</th>\n",
       "      <td>5</td>\n",
       "      <td>6</td>\n",
       "      <td>7</td>\n",
       "      <td>8</td>\n",
       "    </tr>\n",
       "    <tr>\n",
       "      <th>2</th>\n",
       "      <td>10</td>\n",
       "      <td>11</td>\n",
       "      <td>12</td>\n",
       "      <td>13</td>\n",
       "    </tr>\n",
       "  </tbody>\n",
       "</table>\n",
       "</div>"
      ],
      "text/plain": [
       "   header1  header2  header3  header4\n",
       "0        1        2        3        4\n",
       "1        4        5        6        7\n",
       "0        1        2        3        4\n",
       "1        5        6        7        8\n",
       "2       10       11       12       13"
      ]
     },
     "execution_count": 47,
     "metadata": {},
     "output_type": "execute_result"
    }
   ],
   "source": [
    "# We create the list of datafranes\n",
    "frames = [df1, df2]\n",
    "\n",
    "#Within the Pandas package we can concatenate list of dataframes into one big dataframe\n",
    "result = pd.concat(frames)\n",
    "result"
   ]
  },
  {
   "cell_type": "markdown",
   "metadata": {},
   "source": [
    "<a id=\"Classes/Objects\"></a>\n",
    "## Classes/Objects\n",
    "[back to TOC](#contents)\n",
    "\n",
    "Class is like an object \"blueprint\" for creating objects. Objects are instances of a class.\n",
    "The creation of multiple objects based on the same blueprint is an efficient way of programming called object-oriented programming. The efficiency comes mainly from reducing the redundancy of the code. Each class can have its variables known as properties and its methods that act on those properties.\n",
    "\n",
    "Python is an object-oriented programming language which means that almost everything in Python is an object, with its properties and methods.\n"
   ]
  },
  {
   "cell_type": "code",
   "execution_count": 48,
   "metadata": {},
   "outputs": [],
   "source": [
    "# Here we will create a \"blueprint\" (i.e. class) for a Person. Each of us possesses parameters such as name and age.\n",
    "# We can define those parameters as soon as we create an instance of a class within function __init__.\n",
    "# Additional functions can print out our name\n",
    "# We can also create a function that will update our age\n",
    "class Person:\n",
    "    def __init__(self, name, age):\n",
    "        self.name = name\n",
    "        self.age = age\n",
    "\n",
    "    def say_hello(instance):\n",
    "        print(\"Hello my name is \" + instance.name + \" and I am \" + str(instance.age)) \n",
    "\n",
    "    def update_age(instance, new_age):\n",
    "        instance.age = new_age"
   ]
  },
  {
   "cell_type": "code",
   "execution_count": 49,
   "metadata": {},
   "outputs": [
    {
     "name": "stdout",
     "output_type": "stream",
     "text": [
      "Hello my name is John and I am 36\n"
     ]
    }
   ],
   "source": [
    "p1 = Person(\"John\", 36)\n",
    "p1.say_hello()"
   ]
  },
  {
   "cell_type": "code",
   "execution_count": 50,
   "metadata": {},
   "outputs": [],
   "source": [
    "p1.update_age(37)"
   ]
  },
  {
   "cell_type": "code",
   "execution_count": 51,
   "metadata": {},
   "outputs": [
    {
     "name": "stdout",
     "output_type": "stream",
     "text": [
      "Hello my name is John and I am 37\n"
     ]
    }
   ],
   "source": [
    "p1.say_hello()"
   ]
  },
  {
   "cell_type": "markdown",
   "metadata": {},
   "source": [
    "### Excercise:\n",
    "* **Create a class cat with the properties 'name', 'age', 'eye_color', 'fur_color' and a function 'update_age'**\n",
    "* **Create two instances of the cat class and change the age of the first cat**"
   ]
  },
  {
   "cell_type": "code",
   "execution_count": 54,
   "metadata": {},
   "outputs": [],
   "source": [
    "#write your code here:\n"
   ]
  },
  {
   "cell_type": "markdown",
   "metadata": {},
   "source": [
    "Try yourself first, then click on :\n",
    "\n",
    "<details><summary><b>Open Solution</b></summary>\n",
    "\n",
    "```python\n",
    "class Cat:\n",
    "    def __init__(self, name, age, eye_color, fur_color):\n",
    "        self.name = name\n",
    "        self.age = age\n",
    "        self.eye_color = eye_color\n",
    "        self.fur_color = fur_color\n",
    "\n",
    "    def update_age(instance, new_age):\n",
    "        instance.age = new_age\n",
    "        \n",
    "cat1 = Cat(\"LuLu\", \"3\", \"grey\", \"grey-white\")\n",
    "cat1.update_age(4)\n",
    "\n",
    "print(cat1.age)\n",
    "    \n",
    "```\n",
    "    \n",
    "</details>\n"
   ]
  }
 ],
 "metadata": {
  "anaconda-cloud": {},
  "kernelspec": {
   "display_name": "pythonIntro",
   "language": "python",
   "name": "pythonintro"
  },
  "language_info": {
   "codemirror_mode": {
    "name": "ipython",
    "version": 3
   },
   "file_extension": ".py",
   "mimetype": "text/x-python",
   "name": "python",
   "nbconvert_exporter": "python",
   "pygments_lexer": "ipython3",
   "version": "3.10.4"
  },
  "vscode": {
   "interpreter": {
    "hash": "97b84cd48f7ef8a2fee6bcfc71ff1b397fb2421ade9540e42eb55d9b34450a69"
   }
  }
 },
 "nbformat": 4,
 "nbformat_minor": 4
}
